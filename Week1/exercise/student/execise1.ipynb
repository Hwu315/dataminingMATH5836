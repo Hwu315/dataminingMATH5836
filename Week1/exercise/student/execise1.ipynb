{
 "cells": [
  {
   "cell_type": "code",
   "execution_count": 3,
   "metadata": {},
   "outputs": [],
   "source": [
    "import numpy as np\n",
    "import pandas as pd \n",
    "import matplotlib.pyplot as plt\n",
    "import random"
   ]
  },
  {
   "cell_type": "code",
   "execution_count": 4,
   "metadata": {},
   "outputs": [
    {
     "name": "stdout",
     "output_type": "stream",
     "text": [
      "       0    1    2    3               4\n",
      "0    5.1  3.5  1.4  0.2     Iris-setosa\n",
      "1    4.9  3.0  1.4  0.2     Iris-setosa\n",
      "2    4.7  3.2  1.3  0.2     Iris-setosa\n",
      "3    4.6  3.1  1.5  0.2     Iris-setosa\n",
      "4    5.0  3.6  1.4  0.2     Iris-setosa\n",
      "..   ...  ...  ...  ...             ...\n",
      "145  6.7  3.0  5.2  2.3  Iris-virginica\n",
      "146  6.3  2.5  5.0  1.9  Iris-virginica\n",
      "147  6.5  3.0  5.2  2.0  Iris-virginica\n",
      "148  6.2  3.4  5.4  2.3  Iris-virginica\n",
      "149  5.9  3.0  5.1  1.8  Iris-virginica\n",
      "\n",
      "[150 rows x 5 columns]\n"
     ]
    }
   ],
   "source": [
    "data = pd.read_csv('iris.data', sep=',', header = None)\n",
    "print(data)"
   ]
  },
  {
   "cell_type": "code",
   "execution_count": 5,
   "metadata": {},
   "outputs": [
    {
     "name": "stdout",
     "output_type": "stream",
     "text": [
      "150\n"
     ]
    }
   ],
   "source": [
    "print(len(data[:]))"
   ]
  },
  {
   "cell_type": "code",
   "execution_count": null,
   "metadata": {},
   "outputs": [],
   "source": []
  },
  {
   "cell_type": "code",
   "execution_count": 6,
   "metadata": {},
   "outputs": [
    {
     "name": "stdout",
     "output_type": "stream",
     "text": [
      "       0    1    2    3  4\n",
      "0    5.1  3.5  1.4  0.2  1\n",
      "1    4.9  3.0  1.4  0.2  1\n",
      "2    4.7  3.2  1.3  0.2  1\n",
      "3    4.6  3.1  1.5  0.2  1\n",
      "4    5.0  3.6  1.4  0.2  1\n",
      "..   ...  ...  ...  ... ..\n",
      "145  6.7  3.0  5.2  2.3  3\n",
      "146  6.3  2.5  5.0  1.9  3\n",
      "147  6.5  3.0  5.2  2.0  3\n",
      "148  6.2  3.4  5.4  2.3  3\n",
      "149  5.9  3.0  5.1  1.8  3\n",
      "\n",
      "[150 rows x 5 columns]\n"
     ]
    }
   ],
   "source": [
    "data=data.replace(['Iris-setosa', 'Iris-versicolor', 'Iris-virginica'], [1, 2, 3])\n",
    "print(data)"
   ]
  },
  {
   "cell_type": "code",
   "execution_count": 7,
   "metadata": {},
   "outputs": [],
   "source": [
    "#for i in range(len(data)):\n",
    "#    if data[i][4] == 'Iris-setosa':\n",
    "#        data[i][4]=1\n",
    "#    elif data[i][4] == 'Iris-versicolor':\n",
    "#       data[i][4]=2\n",
    "#    elif data[i][4] == 'Iris-virginica':\n",
    "#        data[i][4]=3\n",
    "#print(data)"
   ]
  },
  {
   "cell_type": "code",
   "execution_count": 8,
   "metadata": {},
   "outputs": [],
   "source": [
    "data=np.array(data)"
   ]
  },
  {
   "cell_type": "code",
   "execution_count": 9,
   "metadata": {},
   "outputs": [
    {
     "name": "stdout",
     "output_type": "stream",
     "text": [
      "[5.84333333 3.054      3.75866667 1.19866667]\n",
      "[0.82530129 0.43214658 1.75852918 0.76061262]\n"
     ]
    }
   ],
   "source": [
    "data1 = data[:,:4]\n",
    "mean = data1.mean(0)\n",
    "std = data1.std(0)\n",
    "print(mean)\n",
    "print(std)"
   ]
  },
  {
   "cell_type": "code",
   "execution_count": 10,
   "metadata": {},
   "outputs": [],
   "source": [
    "#for i in range(len(data[:])):\n",
    "#    a1=data[:,0]\n",
    "#    a2=data[:,1]\n",
    "#    a3=data[:,2]\n",
    "#    a4=data[:,3]\n",
    "#a5=[a1.std(), a2.std(), a3.std(),a4.std()]\n",
    "#print(a5)"
   ]
  },
  {
   "cell_type": "code",
   "execution_count": 11,
   "metadata": {},
   "outputs": [],
   "source": [
    "def mean_std(data):\n",
    "    data=data[:,:4]\n",
    "    mean = data.mean(0)\n",
    "    std = data.std(0)\n",
    "    return mean, std\n",
    "#print(data)"
   ]
  },
  {
   "cell_type": "code",
   "execution_count": 12,
   "metadata": {},
   "outputs": [
    {
     "name": "stdout",
     "output_type": "stream",
     "text": [
      "       0    1    2    3    4\n",
      "0    5.1  3.5  1.4  0.2  1.0\n",
      "1    4.9  3.0  1.4  0.2  1.0\n",
      "2    4.7  3.2  1.3  0.2  1.0\n",
      "3    4.6  3.1  1.5  0.2  1.0\n",
      "4    5.0  3.6  1.4  0.2  1.0\n",
      "..   ...  ...  ...  ...  ...\n",
      "145  6.7  3.0  5.2  2.3  3.0\n",
      "146  6.3  2.5  5.0  1.9  3.0\n",
      "147  6.5  3.0  5.2  2.0  3.0\n",
      "148  6.2  3.4  5.4  2.3  3.0\n",
      "149  5.9  3.0  5.1  1.8  3.0\n",
      "\n",
      "[150 rows x 5 columns]\n"
     ]
    },
    {
     "data": {
      "text/plain": [
       "4\n",
       "1.0    50\n",
       "2.0    50\n",
       "3.0    50\n",
       "dtype: int64"
      ]
     },
     "execution_count": 12,
     "metadata": {},
     "output_type": "execute_result"
    }
   ],
   "source": [
    "df = pd.DataFrame(data)\n",
    "print(df)\n",
    "df.groupby(4).size()"
   ]
  },
  {
   "cell_type": "code",
   "execution_count": 13,
   "metadata": {},
   "outputs": [],
   "source": [
    "def classes(data):\n",
    "    df = pd.DataFrame(data)\n",
    "    return df.groupby(4).size()"
   ]
  },
  {
   "cell_type": "code",
   "execution_count": 14,
   "metadata": {},
   "outputs": [
    {
     "data": {
      "image/png": "[encoded data removed]",
      "text/plain": [
       "<Figure size 432x288 with 1 Axes>"
      ]
     },
     "metadata": {
      "needs_background": "light"
     },
     "output_type": "display_data"
    }
   ],
   "source": [
    "sepal_length = data[:,0]\n",
    "plt.figure()\n",
    "plt.hist(sepal_length,bins = np.linspace(4,8,9))\n",
    "plt.xlabel('Sepal.Length')\n",
    "plt.ylabel('Frequency')\n",
    "plt.title('Histogtam of Sepal Length')\n",
    "plt.savefig('Sepal_Lenght.png')"
   ]
  },
  {
   "cell_type": "code",
   "execution_count": 15,
   "metadata": {},
   "outputs": [],
   "source": [
    "def figure1(data, ):\n",
    "    sepal_length = data[:,0]\n",
    "    plt.figure()\n",
    "    plt.hist(sepal_length,bins = np.linspace(4,8,9))\n",
    "    plt.xlabel('Sepal.Length')\n",
    "    plt.ylabel('Frequency')\n",
    "    #plt.title('Histogtam of Sepal Length')\n",
    "    plt.savefig(f\"Desktop/unsw/Data mining/Sepal_Lenght_1.png\")"
   ]
  },
  {
   "cell_type": "code",
   "execution_count": 16,
   "metadata": {},
   "outputs": [
    {
     "data": {
      "image/png": "[encoded data removed]",
      "text/plain": [
       "<Figure size 432x288 with 1 Axes>"
      ]
     },
     "metadata": {
      "needs_background": "light"
     },
     "output_type": "display_data"
    }
   ],
   "source": [
    "sepal_width = data[:,1]\n",
    "plt.figure()\n",
    "#bins=np.linspace(2,5,13)\n",
    "plt.hist(sepal_width, bins=np.linspace(2,5,13))\n",
    "plt.xlabel('Sepal.Width')\n",
    "plt.ylabel('Frequency')\n",
    "plt.title('Histogram of Sepal Width')\n",
    "plt.savefig('Sepal_Width.png')"
   ]
  },
  {
   "cell_type": "code",
   "execution_count": 17,
   "metadata": {},
   "outputs": [],
   "source": [
    "def figure2(data):\n",
    "    sepal_width = data[:,1]\n",
    "    plt.figure()\n",
    "    #bins=np.linspace(2,5,13)\n",
    "    plt.hist(sepal_width, bins=np.linspace(2,5,13))\n",
    "    plt.xlabel('Sepal.Width')\n",
    "    plt.ylabel('Frequency')\n",
    "    #plt.title('Histogram of Sepal Width')\n",
    "    plt.savefig('Desktop/unsw/Data mining/Sepal_Width_1.png')"
   ]
  },
  {
   "cell_type": "code",
   "execution_count": 18,
   "metadata": {},
   "outputs": [
    {
     "data": {
      "image/png": "[encoded data removed]",
      "text/plain": [
       "<Figure size 432x288 with 1 Axes>"
      ]
     },
     "metadata": {
      "needs_background": "light"
     },
     "output_type": "display_data"
    }
   ],
   "source": [
    "petal_length=data[:,2]\n",
    "plt.figure()\n",
    "plt.hist(petal_length, bins=np.linspace(1,7,13))\n",
    "plt.xlabel('Petal.Length')\n",
    "plt.ylabel('Frequency')\n",
    "plt.title('Histogram of Petal Length')\n",
    "plt.savefig('Petal_Length.png')"
   ]
  },
  {
   "cell_type": "code",
   "execution_count": 19,
   "metadata": {},
   "outputs": [],
   "source": [
    "def figure3(data):\n",
    "    petal_length=data[:,2]\n",
    "    plt.figure()\n",
    "    plt.hist(petal_length, bins=np.linspace(1,7,13))\n",
    "    plt.xlabel('Petal.Length')\n",
    "    plt.ylabel('Frequency')\n",
    "    #plt.title('Histogram of Petal Length')\n",
    "    plt.savefig('Desktop/unsw/Data mining/Petal_Length_1.png')"
   ]
  },
  {
   "cell_type": "code",
   "execution_count": 21,
   "metadata": {},
   "outputs": [
    {
     "data": {
      "image/png": "[encoded data removed]",
      "text/plain": [
       "<Figure size 432x288 with 1 Axes>"
      ]
     },
     "metadata": {
      "needs_background": "light"
     },
     "output_type": "display_data"
    }
   ],
   "source": [
    "petal_width=data[:,3]\n",
    "plt.figure()\n",
    "plt.hist(petal_width, bins=np.linspace(0,3,13))\n",
    "plt.xlabel('Petal.Length')\n",
    "plt.ylabel('Frequency')\n",
    "plt.title('Histogram of Petal Length')\n",
    "plt.savefig('Petal_Width.png')"
   ]
  },
  {
   "cell_type": "code",
   "execution_count": 22,
   "metadata": {},
   "outputs": [],
   "source": [
    "def figure4(data):\n",
    "    petal_width=data[:,3]\n",
    "    plt.figure()\n",
    "    plt.hist(petal_width, bins=np.linspace(0,3,13))\n",
    "    plt.xlabel('Petal.Length')\n",
    "    plt.ylabel('Frequency')\n",
    "    #plt.title('Histogram of Petal Length')\n",
    "    plt.savefig('Desktop/unsw/Data mining/Petal_Width_1.png')"
   ]
  },
  {
   "cell_type": "code",
   "execution_count": 23,
   "metadata": {},
   "outputs": [
    {
     "name": "stdout",
     "output_type": "stream",
     "text": [
      "[  0   1   3   5   6   7   9  11  15  17  20  30  31  33  36  38  41  43\n",
      "  44  45  56  58  62  66  68  69  71  73  75  76  81  83  88  89  92  94\n",
      "  97 102 103 104 107 110 114 117 118 119 123 126 127 131 133 135 136 141\n",
      " 142 143 144 146 147 149]\n"
     ]
    }
   ],
   "source": [
    "# randomly\n",
    "train_num = int(0.6*len(data))\n",
    "data_pro=data\n",
    "arr_train = random.sample(range(0,len(data)), train_num)\n",
    "arr1=list(range(0,150))\n",
    "arr_test=np.setdiff1d(arr1,arr_train)\n",
    "print(arr_test)"
   ]
  },
  {
   "cell_type": "code",
   "execution_count": 24,
   "metadata": {},
   "outputs": [],
   "source": [
    "j=0\n",
    "k=0\n",
    "data_train1=[[0]*5]*len(arr_train)\n",
    "for i in range(len(data)):\n",
    "    if i in arr_train:\n",
    "        data_train1[j]=data_pro[i]\n",
    "        j=j+1\n",
    "data_train1=np.array(data_train1)\n",
    "#print(data_train1)\n",
    "\n",
    "\n",
    "data_test1=[[0]*5]*len(arr_test)\n",
    "for i in range(len(data)):\n",
    "    if i in arr_test:\n",
    "        data_test1[k]=data_pro[i]\n",
    "        k=k+1\n",
    "data_test1=np.array(data_test1)\n",
    "#print(data_test1)"
   ]
  },
  {
   "cell_type": "code",
   "execution_count": 25,
   "metadata": {},
   "outputs": [],
   "source": [
    "data_train2 = data_pro[:train_num]\n",
    "data_test2 = data_pro[train_num:]\n",
    "#print(data_train2)\n",
    "#print(data_test2)"
   ]
  },
  {
   "cell_type": "code",
   "execution_count": 26,
   "metadata": {},
   "outputs": [
    {
     "name": "stdout",
     "output_type": "stream",
     "text": [
      "(array([5.79222222, 3.05777778, 3.70111111, 1.17111111]), array([0.81106621, 0.412035  , 1.73822991, 0.75384119]))\n",
      "(array([5.92      , 3.04833333, 3.845     , 1.24      ]), array([0.84039673, 0.46061251, 1.78507003, 0.7688086 ]))\n",
      "(array([5.45222222, 3.13444444, 2.73222222, 0.73555556]), array([0.65966789, 0.47706536, 1.454329  , 0.57180244]))\n",
      "(array([5.92      , 3.04833333, 3.845     , 1.24      ]), array([0.84039673, 0.46061251, 1.78507003, 0.7688086 ]))\n"
     ]
    }
   ],
   "source": [
    "print(mean_std(data_train1))\n",
    "print(mean_std(data_test1))\n",
    "print(mean_std(data_train2))\n",
    "print(mean_std(data_test1))"
   ]
  },
  {
   "cell_type": "code",
   "execution_count": 27,
   "metadata": {},
   "outputs": [
    {
     "data": {
      "text/plain": [
       "4\n",
       "1.0    30\n",
       "2.0    33\n",
       "3.0    27\n",
       "dtype: int64"
      ]
     },
     "execution_count": 27,
     "metadata": {},
     "output_type": "execute_result"
    }
   ],
   "source": [
    "classes(data_train1)"
   ]
  },
  {
   "cell_type": "code",
   "execution_count": 28,
   "metadata": {},
   "outputs": [
    {
     "data": {
      "text/plain": [
       "4\n",
       "1.0    20\n",
       "2.0    17\n",
       "3.0    23\n",
       "dtype: int64"
      ]
     },
     "execution_count": 28,
     "metadata": {},
     "output_type": "execute_result"
    }
   ],
   "source": [
    "classes(data_test1)"
   ]
  },
  {
   "cell_type": "code",
   "execution_count": 29,
   "metadata": {},
   "outputs": [
    {
     "data": {
      "text/plain": [
       "4\n",
       "1.0    50\n",
       "2.0    40\n",
       "dtype: int64"
      ]
     },
     "execution_count": 29,
     "metadata": {},
     "output_type": "execute_result"
    }
   ],
   "source": [
    "classes(data_train2)"
   ]
  },
  {
   "cell_type": "code",
   "execution_count": 30,
   "metadata": {},
   "outputs": [
    {
     "data": {
      "text/plain": [
       "4\n",
       "2.0    10\n",
       "3.0    50\n",
       "dtype: int64"
      ]
     },
     "execution_count": 30,
     "metadata": {},
     "output_type": "execute_result"
    }
   ],
   "source": [
    "classes(data_test2)"
   ]
  },
  {
   "cell_type": "code",
   "execution_count": 31,
   "metadata": {},
   "outputs": [
    {
     "ename": "FileNotFoundError",
     "evalue": "[Errno 2] No such file or directory: 'Desktop/unsw/Data mining/Sepal_Lenght_1.png'",
     "output_type": "error",
     "traceback": [
      "\u001b[0;31m---------------------------------------------------------------------------\u001b[0m",
      "\u001b[0;31mFileNotFoundError\u001b[0m                         Traceback (most recent call last)",
      "\u001b[0;32m<ipython-input-31-5d517285979d>\u001b[0m in \u001b[0;36m<module>\u001b[0;34m\u001b[0m\n\u001b[0;32m----> 1\u001b[0;31m \u001b[0mfigure1\u001b[0m\u001b[0;34m(\u001b[0m\u001b[0mdata_train1\u001b[0m\u001b[0;34m)\u001b[0m\u001b[0;34m\u001b[0m\u001b[0;34m\u001b[0m\u001b[0m\n\u001b[0m\u001b[1;32m      2\u001b[0m \u001b[0mfigure2\u001b[0m\u001b[0;34m(\u001b[0m\u001b[0mdata_train1\u001b[0m\u001b[0;34m)\u001b[0m\u001b[0;34m\u001b[0m\u001b[0;34m\u001b[0m\u001b[0m\n\u001b[1;32m      3\u001b[0m \u001b[0mfigure3\u001b[0m\u001b[0;34m(\u001b[0m\u001b[0mdata_train1\u001b[0m\u001b[0;34m)\u001b[0m\u001b[0;34m\u001b[0m\u001b[0;34m\u001b[0m\u001b[0m\n\u001b[1;32m      4\u001b[0m \u001b[0mfigure4\u001b[0m\u001b[0;34m(\u001b[0m\u001b[0mdata_train1\u001b[0m\u001b[0;34m)\u001b[0m\u001b[0;34m\u001b[0m\u001b[0;34m\u001b[0m\u001b[0m\n",
      "\u001b[0;32m<ipython-input-15-ee7301d7bab4>\u001b[0m in \u001b[0;36mfigure1\u001b[0;34m(data)\u001b[0m\n\u001b[1;32m      6\u001b[0m     \u001b[0mplt\u001b[0m\u001b[0;34m.\u001b[0m\u001b[0mylabel\u001b[0m\u001b[0;34m(\u001b[0m\u001b[0;34m'Frequency'\u001b[0m\u001b[0;34m)\u001b[0m\u001b[0;34m\u001b[0m\u001b[0;34m\u001b[0m\u001b[0m\n\u001b[1;32m      7\u001b[0m     \u001b[0;31m#plt.title('Histogtam of Sepal Length')\u001b[0m\u001b[0;34m\u001b[0m\u001b[0;34m\u001b[0m\u001b[0;34m\u001b[0m\u001b[0m\n\u001b[0;32m----> 8\u001b[0;31m     \u001b[0mplt\u001b[0m\u001b[0;34m.\u001b[0m\u001b[0msavefig\u001b[0m\u001b[0;34m(\u001b[0m\u001b[0;34mf\"Desktop/unsw/Data mining/Sepal_Lenght_1.png\"\u001b[0m\u001b[0;34m)\u001b[0m\u001b[0;34m\u001b[0m\u001b[0;34m\u001b[0m\u001b[0m\n\u001b[0m",
      "\u001b[0;32m~/anaconda3/lib/python3.7/site-packages/matplotlib/pyplot.py\u001b[0m in \u001b[0;36msavefig\u001b[0;34m(*args, **kwargs)\u001b[0m\n\u001b[1;32m    857\u001b[0m \u001b[0;32mdef\u001b[0m \u001b[0msavefig\u001b[0m\u001b[0;34m(\u001b[0m\u001b[0;34m*\u001b[0m\u001b[0margs\u001b[0m\u001b[0;34m,\u001b[0m \u001b[0;34m**\u001b[0m\u001b[0mkwargs\u001b[0m\u001b[0;34m)\u001b[0m\u001b[0;34m:\u001b[0m\u001b[0;34m\u001b[0m\u001b[0;34m\u001b[0m\u001b[0m\n\u001b[1;32m    858\u001b[0m     \u001b[0mfig\u001b[0m \u001b[0;34m=\u001b[0m \u001b[0mgcf\u001b[0m\u001b[0;34m(\u001b[0m\u001b[0;34m)\u001b[0m\u001b[0;34m\u001b[0m\u001b[0;34m\u001b[0m\u001b[0m\n\u001b[0;32m--> 859\u001b[0;31m     \u001b[0mres\u001b[0m \u001b[0;34m=\u001b[0m \u001b[0mfig\u001b[0m\u001b[0;34m.\u001b[0m\u001b[0msavefig\u001b[0m\u001b[0;34m(\u001b[0m\u001b[0;34m*\u001b[0m\u001b[0margs\u001b[0m\u001b[0;34m,\u001b[0m \u001b[0;34m**\u001b[0m\u001b[0mkwargs\u001b[0m\u001b[0;34m)\u001b[0m\u001b[0;34m\u001b[0m\u001b[0;34m\u001b[0m\u001b[0m\n\u001b[0m\u001b[1;32m    860\u001b[0m     \u001b[0mfig\u001b[0m\u001b[0;34m.\u001b[0m\u001b[0mcanvas\u001b[0m\u001b[0;34m.\u001b[0m\u001b[0mdraw_idle\u001b[0m\u001b[0;34m(\u001b[0m\u001b[0;34m)\u001b[0m   \u001b[0;31m# need this if 'transparent=True' to reset colors\u001b[0m\u001b[0;34m\u001b[0m\u001b[0;34m\u001b[0m\u001b[0m\n\u001b[1;32m    861\u001b[0m     \u001b[0;32mreturn\u001b[0m \u001b[0mres\u001b[0m\u001b[0;34m\u001b[0m\u001b[0;34m\u001b[0m\u001b[0m\n",
      "\u001b[0;32m~/anaconda3/lib/python3.7/site-packages/matplotlib/figure.py\u001b[0m in \u001b[0;36msavefig\u001b[0;34m(self, fname, transparent, **kwargs)\u001b[0m\n\u001b[1;32m   2309\u001b[0m                 \u001b[0mpatch\u001b[0m\u001b[0;34m.\u001b[0m\u001b[0mset_edgecolor\u001b[0m\u001b[0;34m(\u001b[0m\u001b[0;34m'none'\u001b[0m\u001b[0;34m)\u001b[0m\u001b[0;34m\u001b[0m\u001b[0;34m\u001b[0m\u001b[0m\n\u001b[1;32m   2310\u001b[0m \u001b[0;34m\u001b[0m\u001b[0m\n\u001b[0;32m-> 2311\u001b[0;31m         \u001b[0mself\u001b[0m\u001b[0;34m.\u001b[0m\u001b[0mcanvas\u001b[0m\u001b[0;34m.\u001b[0m\u001b[0mprint_figure\u001b[0m\u001b[0;34m(\u001b[0m\u001b[0mfname\u001b[0m\u001b[0;34m,\u001b[0m \u001b[0;34m**\u001b[0m\u001b[0mkwargs\u001b[0m\u001b[0;34m)\u001b[0m\u001b[0;34m\u001b[0m\u001b[0;34m\u001b[0m\u001b[0m\n\u001b[0m\u001b[1;32m   2312\u001b[0m \u001b[0;34m\u001b[0m\u001b[0m\n\u001b[1;32m   2313\u001b[0m         \u001b[0;32mif\u001b[0m \u001b[0mtransparent\u001b[0m\u001b[0;34m:\u001b[0m\u001b[0;34m\u001b[0m\u001b[0;34m\u001b[0m\u001b[0m\n",
      "\u001b[0;32m~/anaconda3/lib/python3.7/site-packages/matplotlib/backend_bases.py\u001b[0m in \u001b[0;36mprint_figure\u001b[0;34m(self, filename, dpi, facecolor, edgecolor, orientation, format, bbox_inches, pad_inches, bbox_extra_artists, backend, **kwargs)\u001b[0m\n\u001b[1;32m   2215\u001b[0m                     \u001b[0morientation\u001b[0m\u001b[0;34m=\u001b[0m\u001b[0morientation\u001b[0m\u001b[0;34m,\u001b[0m\u001b[0;34m\u001b[0m\u001b[0;34m\u001b[0m\u001b[0m\n\u001b[1;32m   2216\u001b[0m                     \u001b[0mbbox_inches_restore\u001b[0m\u001b[0;34m=\u001b[0m\u001b[0m_bbox_inches_restore\u001b[0m\u001b[0;34m,\u001b[0m\u001b[0;34m\u001b[0m\u001b[0;34m\u001b[0m\u001b[0m\n\u001b[0;32m-> 2217\u001b[0;31m                     **kwargs)\n\u001b[0m\u001b[1;32m   2218\u001b[0m             \u001b[0;32mfinally\u001b[0m\u001b[0;34m:\u001b[0m\u001b[0;34m\u001b[0m\u001b[0;34m\u001b[0m\u001b[0m\n\u001b[1;32m   2219\u001b[0m                 \u001b[0;32mif\u001b[0m \u001b[0mbbox_inches\u001b[0m \u001b[0;32mand\u001b[0m \u001b[0mrestore_bbox\u001b[0m\u001b[0;34m:\u001b[0m\u001b[0;34m\u001b[0m\u001b[0;34m\u001b[0m\u001b[0m\n",
      "\u001b[0;32m~/anaconda3/lib/python3.7/site-packages/matplotlib/backend_bases.py\u001b[0m in \u001b[0;36mwrapper\u001b[0;34m(*args, **kwargs)\u001b[0m\n\u001b[1;32m   1637\u001b[0m             \u001b[0mkwargs\u001b[0m\u001b[0;34m.\u001b[0m\u001b[0mpop\u001b[0m\u001b[0;34m(\u001b[0m\u001b[0marg\u001b[0m\u001b[0;34m)\u001b[0m\u001b[0;34m\u001b[0m\u001b[0;34m\u001b[0m\u001b[0m\n\u001b[1;32m   1638\u001b[0m \u001b[0;34m\u001b[0m\u001b[0m\n\u001b[0;32m-> 1639\u001b[0;31m         \u001b[0;32mreturn\u001b[0m \u001b[0mfunc\u001b[0m\u001b[0;34m(\u001b[0m\u001b[0;34m*\u001b[0m\u001b[0margs\u001b[0m\u001b[0;34m,\u001b[0m \u001b[0;34m**\u001b[0m\u001b[0mkwargs\u001b[0m\u001b[0;34m)\u001b[0m\u001b[0;34m\u001b[0m\u001b[0;34m\u001b[0m\u001b[0m\n\u001b[0m\u001b[1;32m   1640\u001b[0m \u001b[0;34m\u001b[0m\u001b[0m\n\u001b[1;32m   1641\u001b[0m     \u001b[0;32mreturn\u001b[0m \u001b[0mwrapper\u001b[0m\u001b[0;34m\u001b[0m\u001b[0;34m\u001b[0m\u001b[0m\n",
      "\u001b[0;32m~/anaconda3/lib/python3.7/site-packages/matplotlib/backends/backend_agg.py\u001b[0m in \u001b[0;36mprint_png\u001b[0;34m(self, filename_or_obj, metadata, pil_kwargs, *args)\u001b[0m\n\u001b[1;32m    510\u001b[0m         mpl.image.imsave(\n\u001b[1;32m    511\u001b[0m             \u001b[0mfilename_or_obj\u001b[0m\u001b[0;34m,\u001b[0m \u001b[0mself\u001b[0m\u001b[0;34m.\u001b[0m\u001b[0mbuffer_rgba\u001b[0m\u001b[0;34m(\u001b[0m\u001b[0;34m)\u001b[0m\u001b[0;34m,\u001b[0m \u001b[0mformat\u001b[0m\u001b[0;34m=\u001b[0m\u001b[0;34m\"png\"\u001b[0m\u001b[0;34m,\u001b[0m \u001b[0morigin\u001b[0m\u001b[0;34m=\u001b[0m\u001b[0;34m\"upper\"\u001b[0m\u001b[0;34m,\u001b[0m\u001b[0;34m\u001b[0m\u001b[0;34m\u001b[0m\u001b[0m\n\u001b[0;32m--> 512\u001b[0;31m             dpi=self.figure.dpi, metadata=metadata, pil_kwargs=pil_kwargs)\n\u001b[0m\u001b[1;32m    513\u001b[0m \u001b[0;34m\u001b[0m\u001b[0m\n\u001b[1;32m    514\u001b[0m     \u001b[0;32mdef\u001b[0m \u001b[0mprint_to_buffer\u001b[0m\u001b[0;34m(\u001b[0m\u001b[0mself\u001b[0m\u001b[0;34m)\u001b[0m\u001b[0;34m:\u001b[0m\u001b[0;34m\u001b[0m\u001b[0;34m\u001b[0m\u001b[0m\n",
      "\u001b[0;32m~/anaconda3/lib/python3.7/site-packages/matplotlib/image.py\u001b[0m in \u001b[0;36mimsave\u001b[0;34m(fname, arr, vmin, vmax, cmap, format, origin, dpi, metadata, pil_kwargs)\u001b[0m\n\u001b[1;32m   1603\u001b[0m         \u001b[0mpil_kwargs\u001b[0m\u001b[0;34m.\u001b[0m\u001b[0msetdefault\u001b[0m\u001b[0;34m(\u001b[0m\u001b[0;34m\"format\"\u001b[0m\u001b[0;34m,\u001b[0m \u001b[0mformat\u001b[0m\u001b[0;34m)\u001b[0m\u001b[0;34m\u001b[0m\u001b[0;34m\u001b[0m\u001b[0m\n\u001b[1;32m   1604\u001b[0m         \u001b[0mpil_kwargs\u001b[0m\u001b[0;34m.\u001b[0m\u001b[0msetdefault\u001b[0m\u001b[0;34m(\u001b[0m\u001b[0;34m\"dpi\"\u001b[0m\u001b[0;34m,\u001b[0m \u001b[0;34m(\u001b[0m\u001b[0mdpi\u001b[0m\u001b[0;34m,\u001b[0m \u001b[0mdpi\u001b[0m\u001b[0;34m)\u001b[0m\u001b[0;34m)\u001b[0m\u001b[0;34m\u001b[0m\u001b[0;34m\u001b[0m\u001b[0m\n\u001b[0;32m-> 1605\u001b[0;31m         \u001b[0mimage\u001b[0m\u001b[0;34m.\u001b[0m\u001b[0msave\u001b[0m\u001b[0;34m(\u001b[0m\u001b[0mfname\u001b[0m\u001b[0;34m,\u001b[0m \u001b[0;34m**\u001b[0m\u001b[0mpil_kwargs\u001b[0m\u001b[0;34m)\u001b[0m\u001b[0;34m\u001b[0m\u001b[0;34m\u001b[0m\u001b[0m\n\u001b[0m\u001b[1;32m   1606\u001b[0m \u001b[0;34m\u001b[0m\u001b[0m\n\u001b[1;32m   1607\u001b[0m \u001b[0;34m\u001b[0m\u001b[0m\n",
      "\u001b[0;32m~/anaconda3/lib/python3.7/site-packages/PIL/Image.py\u001b[0m in \u001b[0;36msave\u001b[0;34m(self, fp, format, **params)\u001b[0m\n\u001b[1;32m   2146\u001b[0m                 \u001b[0mfp\u001b[0m \u001b[0;34m=\u001b[0m \u001b[0mbuiltins\u001b[0m\u001b[0;34m.\u001b[0m\u001b[0mopen\u001b[0m\u001b[0;34m(\u001b[0m\u001b[0mfilename\u001b[0m\u001b[0;34m,\u001b[0m \u001b[0;34m\"r+b\"\u001b[0m\u001b[0;34m)\u001b[0m\u001b[0;34m\u001b[0m\u001b[0;34m\u001b[0m\u001b[0m\n\u001b[1;32m   2147\u001b[0m             \u001b[0;32melse\u001b[0m\u001b[0;34m:\u001b[0m\u001b[0;34m\u001b[0m\u001b[0;34m\u001b[0m\u001b[0m\n\u001b[0;32m-> 2148\u001b[0;31m                 \u001b[0mfp\u001b[0m \u001b[0;34m=\u001b[0m \u001b[0mbuiltins\u001b[0m\u001b[0;34m.\u001b[0m\u001b[0mopen\u001b[0m\u001b[0;34m(\u001b[0m\u001b[0mfilename\u001b[0m\u001b[0;34m,\u001b[0m \u001b[0;34m\"w+b\"\u001b[0m\u001b[0;34m)\u001b[0m\u001b[0;34m\u001b[0m\u001b[0;34m\u001b[0m\u001b[0m\n\u001b[0m\u001b[1;32m   2149\u001b[0m \u001b[0;34m\u001b[0m\u001b[0m\n\u001b[1;32m   2150\u001b[0m         \u001b[0;32mtry\u001b[0m\u001b[0;34m:\u001b[0m\u001b[0;34m\u001b[0m\u001b[0;34m\u001b[0m\u001b[0m\n",
      "\u001b[0;31mFileNotFoundError\u001b[0m: [Errno 2] No such file or directory: 'Desktop/unsw/Data mining/Sepal_Lenght_1.png'"
     ]
    },
    {
     "data": {
      "image/png": "[encoded data removed]",
      "text/plain": [
       "<Figure size 432x288 with 1 Axes>"
      ]
     },
     "metadata": {
      "needs_background": "light"
     },
     "output_type": "display_data"
    }
   ],
   "source": [
    "figure1(data_train1)\n",
    "figure2(data_train1)\n",
    "figure3(data_train1)\n",
    "figure4(data_train1)"
   ]
  },
  {
   "cell_type": "code",
   "execution_count": null,
   "metadata": {},
   "outputs": [],
   "source": []
  },
  {
   "cell_type": "code",
   "execution_count": 709,
   "metadata": {},
   "outputs": [],
   "source": [
    "def subset(data, n):\n",
    "    data=np.array(data)\n",
    "    data=data[:,n]\n",
    "    return data"
   ]
  },
  {
   "cell_type": "code",
   "execution_count": 710,
   "metadata": {},
   "outputs": [
    {
     "name": "stdin",
     "output_type": "stream",
     "text": [
      "input: feature 1\n"
     ]
    },
    {
     "data": {
      "text/plain": [
       "array([3.1, 3.4, 3. , 3. , 3.9, 3.5, 3.8, 3.8, 3.4, 3.7, 3.6, 3.4, 3.4,\n",
       "       3.5, 3.1, 3.4, 4.1, 3.1, 3.2, 3.5, 3.1, 3. , 3.4, 3.5, 2.3, 3.5,\n",
       "       3. , 3.8, 3.2, 3.7, 3.3, 3.2, 3.2, 3.1, 2.8, 2.8, 3.3, 2.4, 2. ,\n",
       "       3. , 2.9, 2.9, 2.8, 3. , 2.8, 3. , 2.9, 2.4, 2.7, 3.4, 3.1, 3. ,\n",
       "       2.5, 2.6, 2.6, 2.3, 3. , 2.9, 2.9, 2.5, 2.8, 2.9, 3. , 3. , 2.5,\n",
       "       2.5, 2.7, 3. , 2.5, 2.8, 3. , 2.6, 2.2, 3.2, 2.7, 3.3, 3.2, 3. ,\n",
       "       2.8, 2.8, 3. , 3. , 3.1, 3.1, 2.7, 3.3, 3. , 2.5, 3. , 3. ])"
      ]
     },
     "execution_count": 710,
     "metadata": {},
     "output_type": "execute_result"
    }
   ],
   "source": [
    "n = input(\"input: feature\")\n",
    "n=int(n)\n",
    "subset(data_train1, n)"
   ]
  },
  {
   "cell_type": "code",
   "execution_count": 711,
   "metadata": {},
   "outputs": [
    {
     "data": {
      "text/plain": [
       "array([3.5, 3. , 3.2, 3.6, 3.9, 3.4, 2.9, 3.1, 3.7, 3.4, 4. , 4.4, 3.3,\n",
       "       3. , 3.4, 3.2, 4.2, 3.2, 3.8, 2.3, 2.9, 2.7, 2.2, 3.1, 3. , 2.7,\n",
       "       2.2, 2.5, 3.2, 2.8, 2.5, 2.9, 2.6, 2.4, 2.7, 3. , 2.3, 3. , 2.7,\n",
       "       3.3, 2.7, 3. , 2.9, 3.6, 3.2, 3.2, 3.8, 2.8, 2.8, 2.8, 3. , 2.8,\n",
       "       3.8, 2.8, 2.6, 3.4, 3.1, 3.1, 3.2, 3.4])"
      ]
     },
     "execution_count": 711,
     "metadata": {},
     "output_type": "execute_result"
    }
   ],
   "source": [
    "subset(data_test1,n)"
   ]
  },
  {
   "cell_type": "code",
   "execution_count": 712,
   "metadata": {},
   "outputs": [
    {
     "data": {
      "text/plain": [
       "array([3.5, 3. , 3.2, 3.1, 3.6, 3.9, 3.4, 3.4, 2.9, 3.1, 3.7, 3.4, 3. ,\n",
       "       3. , 4. , 4.4, 3.9, 3.5, 3.8, 3.8, 3.4, 3.7, 3.6, 3.3, 3.4, 3. ,\n",
       "       3.4, 3.5, 3.4, 3.2, 3.1, 3.4, 4.1, 4.2, 3.1, 3.2, 3.5, 3.1, 3. ,\n",
       "       3.4, 3.5, 2.3, 3.2, 3.5, 3.8, 3. , 3.8, 3.2, 3.7, 3.3, 3.2, 3.2,\n",
       "       3.1, 2.3, 2.8, 2.8, 3.3, 2.4, 2.9, 2.7, 2. , 3. , 2.2, 2.9, 2.9,\n",
       "       3.1, 3. , 2.7, 2.2, 2.5, 3.2, 2.8, 2.5, 2.8, 2.9, 3. , 2.8, 3. ,\n",
       "       2.9, 2.6, 2.4, 2.4, 2.7, 2.7, 3. , 3.4, 3.1, 2.3, 3. , 2.5])"
      ]
     },
     "execution_count": 712,
     "metadata": {},
     "output_type": "execute_result"
    }
   ],
   "source": [
    "subset(data_train2,n)"
   ]
  },
  {
   "cell_type": "code",
   "execution_count": 713,
   "metadata": {},
   "outputs": [
    {
     "data": {
      "text/plain": [
       "array([2.6, 3. , 2.6, 2.3, 2.7, 3. , 2.9, 2.9, 2.5, 2.8, 3.3, 2.7, 3. ,\n",
       "       2.9, 3. , 3. , 2.5, 2.9, 2.5, 3.6, 3.2, 2.7, 3. , 2.5, 2.8, 3.2,\n",
       "       3. , 3.8, 2.6, 2.2, 3.2, 2.8, 2.8, 2.7, 3.3, 3.2, 2.8, 3. , 2.8,\n",
       "       3. , 2.8, 3.8, 2.8, 2.8, 2.6, 3. , 3.4, 3.1, 3. , 3.1, 3.1, 3.1,\n",
       "       2.7, 3.2, 3.3, 3. , 2.5, 3. , 3.4, 3. ])"
      ]
     },
     "execution_count": 713,
     "metadata": {},
     "output_type": "execute_result"
    }
   ],
   "source": [
    "subset(data_test2,n)"
   ]
  },
  {
   "cell_type": "code",
   "execution_count": 731,
   "metadata": {},
   "outputs": [],
   "source": [
    "subset1=[[0]*5]*50\n",
    "subset2=[[0]*5]*50\n",
    "p=0\n",
    "for i in range(50):\n",
    "    subset1[p]=data[i]\n",
    "    p=p+1\n",
    "subset1=np.array(subset1)\n",
    "#print(subset1)\n",
    "q=0\n",
    "for i in range(50,100):\n",
    "    subset2[q]=data[i]\n",
    "    q=q+1\n",
    "subset2=np.array(subset2)\n",
    "#print(subset2)\n",
    "\n",
    "np.savetxt('Desktop/unsw/Data mining/binary_iristrain.txt',subset1,fmt='%1.2f', delimiter=\",\")\n",
    "np.savetxt('Desktop/unsw/Data mining/binary_iristest.txt',subset1,fmt='%1.2f', delimiter=\",\")"
   ]
  },
  {
   "cell_type": "code",
   "execution_count": 736,
   "metadata": {},
   "outputs": [
    {
     "name": "stdout",
     "output_type": "stream",
     "text": [
      "150\n",
      "[3.5 3.  3.2 3.1 3.6 3.9 3.4 3.4 2.9 3.1 3.7 3.4 3.  3.  4.  4.4 3.9 3.5\n",
      " 3.8 3.8 3.4 3.7 3.6 3.3 3.4 3.  3.4 3.5 3.4 3.2 3.1 3.4 4.1 4.2 3.1 3.2\n",
      " 3.5 3.1 3.  3.4 3.5 2.3 3.2 3.5 3.8 3.  3.8 3.2 3.7 3.3 3.2 3.2 3.1 2.3\n",
      " 2.8 2.8 3.3 2.4 2.9 2.7 2.  3.  2.2 2.9 2.9 3.1 3.  2.7 2.2 2.5 3.2 2.8\n",
      " 2.5 2.8 2.9 3.  2.8 3.  2.9 2.6 2.4 2.4 2.7 2.7 3.  3.4 3.1 2.3 3.  2.5\n",
      " 2.6 3.  2.6 2.3 2.7 3.  2.9 2.9 2.5 2.8 3.3 2.7 3.  2.9 3.  3.  2.5 2.9\n",
      " 2.5 3.6 3.2 2.7 3.  2.5 2.8 3.2 3.  3.8 2.6 2.2 3.2 2.8 2.8 2.7 3.3 3.2\n",
      " 2.8 3.  2.8 3.  2.8 3.8 2.8 2.8 2.6 3.  3.4 3.1 3.  3.1 3.1 3.1 2.7 3.2\n",
      " 3.3 3.  2.5 3.  3.4 3. ]\n"
     ]
    }
   ],
   "source": [
    "w=int(len(data))\n",
    "print(w)\n",
    "data_c=data[1,:]\n",
    "print(data[:,1])"
   ]
  },
  {
   "cell_type": "code",
   "execution_count": 748,
   "metadata": {},
   "outputs": [],
   "source": [
    "def normalise(data):\n",
    "    min = data.min(0)\n",
    "    max = data.max(0)\n",
    "    data=(data-min)/(max-min)\n",
    "    return data"
   ]
  },
  {
   "cell_type": "code",
   "execution_count": 749,
   "metadata": {},
   "outputs": [
    {
     "name": "stdout",
     "output_type": "stream",
     "text": [
      "[[0.22222222 0.625      0.06779661 0.04166667 0.        ]\n",
      " [0.16666667 0.41666667 0.06779661 0.04166667 0.        ]\n",
      " [0.11111111 0.5        0.05084746 0.04166667 0.        ]\n",
      " [0.08333333 0.45833333 0.08474576 0.04166667 0.        ]\n",
      " [0.19444444 0.66666667 0.06779661 0.04166667 0.        ]\n",
      " [0.30555556 0.79166667 0.11864407 0.125      0.        ]\n",
      " [0.08333333 0.58333333 0.06779661 0.08333333 0.        ]\n",
      " [0.19444444 0.58333333 0.08474576 0.04166667 0.        ]\n",
      " [0.02777778 0.375      0.06779661 0.04166667 0.        ]\n",
      " [0.16666667 0.45833333 0.08474576 0.         0.        ]\n",
      " [0.30555556 0.70833333 0.08474576 0.04166667 0.        ]\n",
      " [0.13888889 0.58333333 0.10169492 0.04166667 0.        ]\n",
      " [0.13888889 0.41666667 0.06779661 0.         0.        ]\n",
      " [0.         0.41666667 0.01694915 0.         0.        ]\n",
      " [0.41666667 0.83333333 0.03389831 0.04166667 0.        ]\n",
      " [0.38888889 1.         0.08474576 0.125      0.        ]\n",
      " [0.30555556 0.79166667 0.05084746 0.125      0.        ]\n",
      " [0.22222222 0.625      0.06779661 0.08333333 0.        ]\n",
      " [0.38888889 0.75       0.11864407 0.08333333 0.        ]\n",
      " [0.22222222 0.75       0.08474576 0.08333333 0.        ]\n",
      " [0.30555556 0.58333333 0.11864407 0.04166667 0.        ]\n",
      " [0.22222222 0.70833333 0.08474576 0.125      0.        ]\n",
      " [0.08333333 0.66666667 0.         0.04166667 0.        ]\n",
      " [0.22222222 0.54166667 0.11864407 0.16666667 0.        ]\n",
      " [0.13888889 0.58333333 0.15254237 0.04166667 0.        ]\n",
      " [0.19444444 0.41666667 0.10169492 0.04166667 0.        ]\n",
      " [0.19444444 0.58333333 0.10169492 0.125      0.        ]\n",
      " [0.25       0.625      0.08474576 0.04166667 0.        ]\n",
      " [0.25       0.58333333 0.06779661 0.04166667 0.        ]\n",
      " [0.11111111 0.5        0.10169492 0.04166667 0.        ]\n",
      " [0.13888889 0.45833333 0.10169492 0.04166667 0.        ]\n",
      " [0.30555556 0.58333333 0.08474576 0.125      0.        ]\n",
      " [0.25       0.875      0.08474576 0.         0.        ]\n",
      " [0.33333333 0.91666667 0.06779661 0.04166667 0.        ]\n",
      " [0.16666667 0.45833333 0.08474576 0.         0.        ]\n",
      " [0.19444444 0.5        0.03389831 0.04166667 0.        ]\n",
      " [0.33333333 0.625      0.05084746 0.04166667 0.        ]\n",
      " [0.16666667 0.45833333 0.08474576 0.         0.        ]\n",
      " [0.02777778 0.41666667 0.05084746 0.04166667 0.        ]\n",
      " [0.22222222 0.58333333 0.08474576 0.04166667 0.        ]\n",
      " [0.19444444 0.625      0.05084746 0.08333333 0.        ]\n",
      " [0.05555556 0.125      0.05084746 0.08333333 0.        ]\n",
      " [0.02777778 0.5        0.05084746 0.04166667 0.        ]\n",
      " [0.19444444 0.625      0.10169492 0.20833333 0.        ]\n",
      " [0.22222222 0.75       0.15254237 0.125      0.        ]\n",
      " [0.13888889 0.41666667 0.06779661 0.08333333 0.        ]\n",
      " [0.22222222 0.75       0.10169492 0.04166667 0.        ]\n",
      " [0.08333333 0.5        0.06779661 0.04166667 0.        ]\n",
      " [0.27777778 0.70833333 0.08474576 0.04166667 0.        ]\n",
      " [0.19444444 0.54166667 0.06779661 0.04166667 0.        ]\n",
      " [0.75       0.5        0.62711864 0.54166667 0.5       ]\n",
      " [0.58333333 0.5        0.59322034 0.58333333 0.5       ]\n",
      " [0.72222222 0.45833333 0.66101695 0.58333333 0.5       ]\n",
      " [0.33333333 0.125      0.50847458 0.5        0.5       ]\n",
      " [0.61111111 0.33333333 0.61016949 0.58333333 0.5       ]\n",
      " [0.38888889 0.33333333 0.59322034 0.5        0.5       ]\n",
      " [0.55555556 0.54166667 0.62711864 0.625      0.5       ]\n",
      " [0.16666667 0.16666667 0.38983051 0.375      0.5       ]\n",
      " [0.63888889 0.375      0.61016949 0.5        0.5       ]\n",
      " [0.25       0.29166667 0.49152542 0.54166667 0.5       ]\n",
      " [0.19444444 0.         0.42372881 0.375      0.5       ]\n",
      " [0.44444444 0.41666667 0.54237288 0.58333333 0.5       ]\n",
      " [0.47222222 0.08333333 0.50847458 0.375      0.5       ]\n",
      " [0.5        0.375      0.62711864 0.54166667 0.5       ]\n",
      " [0.36111111 0.375      0.44067797 0.5        0.5       ]\n",
      " [0.66666667 0.45833333 0.57627119 0.54166667 0.5       ]\n",
      " [0.36111111 0.41666667 0.59322034 0.58333333 0.5       ]\n",
      " [0.41666667 0.29166667 0.52542373 0.375      0.5       ]\n",
      " [0.52777778 0.08333333 0.59322034 0.58333333 0.5       ]\n",
      " [0.36111111 0.20833333 0.49152542 0.41666667 0.5       ]\n",
      " [0.44444444 0.5        0.6440678  0.70833333 0.5       ]\n",
      " [0.5        0.33333333 0.50847458 0.5        0.5       ]\n",
      " [0.55555556 0.20833333 0.66101695 0.58333333 0.5       ]\n",
      " [0.5        0.33333333 0.62711864 0.45833333 0.5       ]\n",
      " [0.58333333 0.375      0.55932203 0.5        0.5       ]\n",
      " [0.63888889 0.41666667 0.57627119 0.54166667 0.5       ]\n",
      " [0.69444444 0.33333333 0.6440678  0.54166667 0.5       ]\n",
      " [0.66666667 0.41666667 0.6779661  0.66666667 0.5       ]\n",
      " [0.47222222 0.375      0.59322034 0.58333333 0.5       ]\n",
      " [0.38888889 0.25       0.42372881 0.375      0.5       ]\n",
      " [0.33333333 0.16666667 0.47457627 0.41666667 0.5       ]\n",
      " [0.33333333 0.16666667 0.45762712 0.375      0.5       ]\n",
      " [0.41666667 0.29166667 0.49152542 0.45833333 0.5       ]\n",
      " [0.47222222 0.29166667 0.69491525 0.625      0.5       ]\n",
      " [0.30555556 0.41666667 0.59322034 0.58333333 0.5       ]\n",
      " [0.47222222 0.58333333 0.59322034 0.625      0.5       ]\n",
      " [0.66666667 0.45833333 0.62711864 0.58333333 0.5       ]\n",
      " [0.55555556 0.125      0.57627119 0.5        0.5       ]\n",
      " [0.36111111 0.41666667 0.52542373 0.5        0.5       ]\n",
      " [0.33333333 0.20833333 0.50847458 0.5        0.5       ]\n",
      " [0.33333333 0.25       0.57627119 0.45833333 0.5       ]\n",
      " [0.5        0.41666667 0.61016949 0.54166667 0.5       ]\n",
      " [0.41666667 0.25       0.50847458 0.45833333 0.5       ]\n",
      " [0.19444444 0.125      0.38983051 0.375      0.5       ]\n",
      " [0.36111111 0.29166667 0.54237288 0.5        0.5       ]\n",
      " [0.38888889 0.41666667 0.54237288 0.45833333 0.5       ]\n",
      " [0.38888889 0.375      0.54237288 0.5        0.5       ]\n",
      " [0.52777778 0.375      0.55932203 0.5        0.5       ]\n",
      " [0.22222222 0.20833333 0.33898305 0.41666667 0.5       ]\n",
      " [0.38888889 0.33333333 0.52542373 0.5        0.5       ]\n",
      " [0.55555556 0.54166667 0.84745763 1.         1.        ]\n",
      " [0.41666667 0.29166667 0.69491525 0.75       1.        ]\n",
      " [0.77777778 0.41666667 0.83050847 0.83333333 1.        ]\n",
      " [0.55555556 0.375      0.77966102 0.70833333 1.        ]\n",
      " [0.61111111 0.41666667 0.81355932 0.875      1.        ]\n",
      " [0.91666667 0.41666667 0.94915254 0.83333333 1.        ]\n",
      " [0.16666667 0.20833333 0.59322034 0.66666667 1.        ]\n",
      " [0.83333333 0.375      0.89830508 0.70833333 1.        ]\n",
      " [0.66666667 0.20833333 0.81355932 0.70833333 1.        ]\n",
      " [0.80555556 0.66666667 0.86440678 1.         1.        ]\n",
      " [0.61111111 0.5        0.69491525 0.79166667 1.        ]\n",
      " [0.58333333 0.29166667 0.72881356 0.75       1.        ]\n",
      " [0.69444444 0.41666667 0.76271186 0.83333333 1.        ]\n",
      " [0.38888889 0.20833333 0.6779661  0.79166667 1.        ]\n",
      " [0.41666667 0.33333333 0.69491525 0.95833333 1.        ]\n",
      " [0.58333333 0.5        0.72881356 0.91666667 1.        ]\n",
      " [0.61111111 0.41666667 0.76271186 0.70833333 1.        ]\n",
      " [0.94444444 0.75       0.96610169 0.875      1.        ]\n",
      " [0.94444444 0.25       1.         0.91666667 1.        ]\n",
      " [0.47222222 0.08333333 0.6779661  0.58333333 1.        ]\n",
      " [0.72222222 0.5        0.79661017 0.91666667 1.        ]\n",
      " [0.36111111 0.33333333 0.66101695 0.79166667 1.        ]\n",
      " [0.94444444 0.33333333 0.96610169 0.79166667 1.        ]\n",
      " [0.55555556 0.29166667 0.66101695 0.70833333 1.        ]\n",
      " [0.66666667 0.54166667 0.79661017 0.83333333 1.        ]\n",
      " [0.80555556 0.5        0.84745763 0.70833333 1.        ]\n",
      " [0.52777778 0.33333333 0.6440678  0.70833333 1.        ]\n",
      " [0.5        0.41666667 0.66101695 0.70833333 1.        ]\n",
      " [0.58333333 0.33333333 0.77966102 0.83333333 1.        ]\n",
      " [0.80555556 0.41666667 0.81355932 0.625      1.        ]\n",
      " [0.86111111 0.33333333 0.86440678 0.75       1.        ]\n",
      " [1.         0.75       0.91525424 0.79166667 1.        ]\n",
      " [0.58333333 0.33333333 0.77966102 0.875      1.        ]\n",
      " [0.55555556 0.33333333 0.69491525 0.58333333 1.        ]\n",
      " [0.5        0.25       0.77966102 0.54166667 1.        ]\n",
      " [0.94444444 0.41666667 0.86440678 0.91666667 1.        ]\n",
      " [0.55555556 0.58333333 0.77966102 0.95833333 1.        ]\n",
      " [0.58333333 0.45833333 0.76271186 0.70833333 1.        ]\n",
      " [0.47222222 0.41666667 0.6440678  0.70833333 1.        ]\n",
      " [0.72222222 0.45833333 0.74576271 0.83333333 1.        ]\n",
      " [0.66666667 0.45833333 0.77966102 0.95833333 1.        ]\n",
      " [0.72222222 0.45833333 0.69491525 0.91666667 1.        ]\n",
      " [0.41666667 0.29166667 0.69491525 0.75       1.        ]\n",
      " [0.69444444 0.5        0.83050847 0.91666667 1.        ]\n",
      " [0.66666667 0.54166667 0.79661017 1.         1.        ]\n",
      " [0.66666667 0.41666667 0.71186441 0.91666667 1.        ]\n",
      " [0.55555556 0.20833333 0.6779661  0.75       1.        ]\n",
      " [0.61111111 0.41666667 0.71186441 0.79166667 1.        ]\n",
      " [0.52777778 0.58333333 0.74576271 0.91666667 1.        ]\n",
      " [0.44444444 0.41666667 0.69491525 0.70833333 1.        ]]\n"
     ]
    }
   ],
   "source": [
    "data_normalise=normalise(data)\n",
    "print(data_normalise)"
   ]
  },
  {
   "cell_type": "code",
   "execution_count": null,
   "metadata": {},
   "outputs": [],
   "source": []
  }
 ],
 "metadata": {
  "kernelspec": {
   "display_name": "Python 3",
   "language": "python",
   "name": "python3"
  },
  "language_info": {
   "codemirror_mode": {
    "name": "ipython",
    "version": 3
   },
   "file_extension": ".py",
   "mimetype": "text/x-python",
   "name": "python",
   "nbconvert_exporter": "python",
   "pygments_lexer": "ipython3",
   "version": "3.7.4"
  }
 },
 "nbformat": 4,
 "nbformat_minor": 5
}
